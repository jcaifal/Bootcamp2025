{
 "cells": [
  {
   "cell_type": "code",
   "execution_count": null,
   "id": "9a5d3749",
   "metadata": {},
   "outputs": [],
   "source": [
    "import pandas as pd\n",
    "\n",
    "\n",
    "#Creamos un dataframe con datos de nombre y edad\n",
    "data = {        \n",
    "    'Nombre': ['Juan', 'Ana', 'Pedro', 'Maria'],\n",
    "    'Edad': [28, 22, 35, 30]        \n",
    "}\n",
    "\n",
    "df = pd.DataFrame(data)\n",
    "\n",
    "# Mostramos el dataframe\n",
    "print(\"DataFrame original:\")\n",
    "print(df)\n",
    "\n",
    "#Muestre el nombre y edad\n",
    "print(\"\\nNombre y Edad:\")\n",
    "for index, row in df.iterrows():\n",
    "    print(f\"Nombre: {row['Nombre']}, Edad: {row['Edad']}\")\n",
    "\n",
    "#verificamos si la persona es mayor de edad\n",
    "print(\"\\nVerificación de mayoría de edad:\")\n",
    "for index, row in df.iterrows():\n",
    "    if row['Edad'] >= 18:\n",
    "        print(f\"{row['Nombre']} es mayor de edad.\")\n",
    "    else:\n",
    "        print(f\"{row['Nombre']} no es mayor de edad.\")\n",
    "\n",
    "# Guardamos el DataFrame en un archivo CSV\n",
    "df.to_csv('datos_personas.csv', index=False)"
   ]
  }
 ],
 "metadata": {
  "language_info": {
   "name": "python"
  }
 },
 "nbformat": 4,
 "nbformat_minor": 5
}
