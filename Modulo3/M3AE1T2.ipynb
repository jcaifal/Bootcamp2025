{
 "cells": [
  {
   "cell_type": "code",
   "execution_count": 1,
   "id": "68b4043d",
   "metadata": {},
   "outputs": [
    {
     "name": "stdout",
     "output_type": "stream",
     "text": [
      "--------------------------------------\n",
      "Arreglo x:\n",
      "[[ 1  2  3  4]\n",
      " [ 5  6  7  8]\n",
      " [ 9 10 11 12]\n",
      " [13 14 15 16]]\n",
      "--------------------------------------\n",
      "Arreglo y:\n",
      "[  0.          11.11111111  22.22222222  33.33333333  44.44444444\n",
      "  55.55555556  66.66666667  77.77777778  88.88888889 100.        ]\n",
      "--------------------------------------\n",
      "Matriz z:\n",
      "[[18  8 17]\n",
      " [ 6 19  3]\n",
      " [15  6 18]]\n",
      "--------------------------------------\n",
      "Aplicando np.sqrt() y np.log() a las matrices creadas:\n",
      "Matriz x (sqrt):\n",
      "[[1.         1.41421356 1.73205081 2.        ]\n",
      " [2.23606798 2.44948974 2.64575131 2.82842712]\n",
      " [3.         3.16227766 3.31662479 3.46410162]\n",
      " [3.60555128 3.74165739 3.87298335 4.        ]]\n",
      "Matriz x (log):\n",
      "[[0.         0.69314718 1.09861229 1.38629436]\n",
      " [1.60943791 1.79175947 1.94591015 2.07944154]\n",
      " [2.19722458 2.30258509 2.39789527 2.48490665]\n",
      " [2.56494936 2.63905733 2.7080502  2.77258872]]\n",
      "--------------------------------------\n",
      "Diferencia entre aplicar funciones a arreglos enteros vs flotantes:\n",
      "Las funciones como np.sqrt() y np.log() pueden generar resultados no enteros,\n",
      "por lo que al aplicarlas a arreglos enteros, los resultados se convierten en flotantes.\n",
      "Por ejemplo, np.sqrt(4) es 2.0, no 2.\n"
     ]
    }
   ],
   "source": [
    "#importamos la librería numpy\n",
    "import numpy as np\n",
    "\n",
    "#Creamos un arreglo x con np.arange(1, 17) y redimensionalo en una matriz de 4x4\n",
    "x = np.arange(1, 17).reshape(4, 4)\n",
    "\n",
    "#Imprimimos el arreglo x\n",
    "print(\"--------------------------------------\")\n",
    "print(\"Arreglo x:\")\n",
    "print(x)\n",
    "\n",
    "#Generamos un arreglo de 10 elementos equidistantes entre 0 y 100 usando np.linspace\n",
    "y = np.linspace(0, 100, 10)\n",
    "\n",
    "#Imprimimos el arreglo y\n",
    "print(\"--------------------------------------\")\n",
    "print(\"Arreglo y:\")\n",
    "print(y)\n",
    "\n",
    "#Crea una matriz aleatoria de 3x3 con enteros entre 1 y 20 usando np.random.randint\n",
    "z = np.random.randint(1, 21, size=(3, 3))\n",
    "#Imprimimos la matriz z\n",
    "print(\"--------------------------------------\")\n",
    "print(\"Matriz z:\")\n",
    "print(z)\n",
    "\n",
    "#aplica np.sqrt() y np.log() sobre las matrices creadas(cuando sea posible)\n",
    "print(\"--------------------------------------\")\n",
    "print(\"Aplicando np.sqrt() y np.log() a las matrices creadas:\")\n",
    "print(\"Matriz x (sqrt):\")\n",
    "print(np.sqrt(x))\n",
    "print(\"Matriz x (log):\")    \n",
    "print(np.log(x))\n",
    "\n",
    "\n",
    "#que diferencia hay en la forma de aplicar funciones sobre arreglos enteros vs flotantes?\n",
    "print(\"--------------------------------------\")\n",
    "print(\"Diferencia entre aplicar funciones a arreglos enteros vs flotantes:\")            \n",
    "print(\"Las funciones como np.sqrt() y np.log() pueden generar resultados no enteros,\")\n",
    "print(\"por lo que al aplicarlas a arreglos enteros, los resultados se convierten en flotantes.\")\n",
    "print(\"Por ejemplo, np.sqrt(4) es 2.0, no 2.\")\n",
    "\n",
    "\n",
    "\n",
    "\n"
   ]
  }
 ],
 "metadata": {
  "kernelspec": {
   "display_name": "base",
   "language": "python",
   "name": "python3"
  },
  "language_info": {
   "codemirror_mode": {
    "name": "ipython",
    "version": 3
   },
   "file_extension": ".py",
   "mimetype": "text/x-python",
   "name": "python",
   "nbconvert_exporter": "python",
   "pygments_lexer": "ipython3",
   "version": "3.11.7"
  }
 },
 "nbformat": 4,
 "nbformat_minor": 5
}
