{
 "cells": [
  {
   "cell_type": "code",
   "execution_count": null,
   "id": "42819875",
   "metadata": {},
   "outputs": [],
   "source": [
    "\n",
    "import pandas as pd\n",
    "\n",
    "# Leer el archivo CSV sin encabezado y asignar nombres personalizados\n",
    "df = pd.read_csv('archivo.csv', header=None, names=['nombre', 'edad', 'ciudad'], na_values=['?', 'NA', ''])\n",
    "\n",
    "# Reemplazar valores nulos con un valor predeterminado\n",
    "df.fillna({'nombre': 'Desconocido', 'edad': 0, 'ciudad': 'Desconocida'}, inplace=True)\n",
    "\n",
    "# Eliminar filas duplicadas\n",
    "df.drop_duplicates(inplace=True)\n",
    "\n",
    "# Exportar el DataFrame limpio a un nuevo archivo CSV\n",
    "df.to_csv('archivo_limpio.csv', sep=';', encoding='utf-8', index=False)\n"
   ]
  }
 ],
 "metadata": {
  "language_info": {
   "name": "python"
  }
 },
 "nbformat": 4,
 "nbformat_minor": 5
}
