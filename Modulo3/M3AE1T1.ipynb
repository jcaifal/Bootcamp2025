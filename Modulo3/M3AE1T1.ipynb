{
 "cells": [
  {
   "cell_type": "code",
   "execution_count": 3,
   "id": "f8c5254f",
   "metadata": {},
   "outputs": [
    {
     "name": "stdout",
     "output_type": "stream",
     "text": [
      "------------------------------------\n",
      "[[11 12 13]\n",
      " [14 15 16]\n",
      " [17 18 19]]\n",
      "------------------------------------\n",
      "[[22 24 26]\n",
      " [28 30 32]\n",
      " [34 36 38]]\n",
      "------------------------------------\n",
      "[22 24 26 28 30 32 34 36 38]\n",
      "------------------------------------\n",
      "Matriz original:\n",
      "[[22 24 26]\n",
      " [28 30 32]\n",
      " [34 36 38]]\n",
      "------------------------------------\n",
      "Matriz modificada:\n",
      "[[100  24  26]\n",
      " [ 28  30  32]\n",
      " [ 34  36  38]]\n"
     ]
    }
   ],
   "source": [
    "#importamos la librería numpy\n",
    "import numpy as np\n",
    "\n",
    "#Creamos una matriz de 3x3 con  numeros enteros del 1 al 9\n",
    "matriz = np.array([[1, 2, 3], [4, 5, 6], [7, 8, 9]])\n",
    "\n",
    "\n",
    "\n",
    "#suma 10 a cada elemento de la matriz\n",
    "matriz += 10\n",
    "\n",
    "#imprimimos la matriz\n",
    "print(\"------------------------------------\")\n",
    "print(matriz)\n",
    "\n",
    "\n",
    "#Multiplicamos la matriz por 2\n",
    "matriz *= 2\n",
    "\n",
    "#imprimimos la matriz\n",
    "print(\"------------------------------------\")\n",
    "print(matriz)\n",
    "\n",
    "#extraemos los elementos mayores a 5 utilizando una selección condicional\n",
    "mayores_a_5 = matriz[matriz > 5]\n",
    "\n",
    "#imprimimos los elementos mayores a 5\n",
    "print(\"------------------------------------\")\n",
    "print(mayores_a_5)\n",
    "\n",
    "#asigmanos a la matriz a una nueva variable B = A y modifica un valor de B  \n",
    "B = matriz.copy()\n",
    "B[0, 0] = 100\n",
    "\n",
    "#imprimimos la matriz original y la modificada\n",
    "print(\"------------------------------------\")\n",
    "print(\"Matriz original:\")\n",
    "print(matriz)\n",
    "print(\"------------------------------------\")\n",
    "print(\"Matriz modificada:\")\n",
    "print(B)\n",
    "\n",
    "\n"
   ]
  }
 ],
 "metadata": {
  "kernelspec": {
   "display_name": "base",
   "language": "python",
   "name": "python3"
  },
  "language_info": {
   "codemirror_mode": {
    "name": "ipython",
    "version": 3
   },
   "file_extension": ".py",
   "mimetype": "text/x-python",
   "name": "python",
   "nbconvert_exporter": "python",
   "pygments_lexer": "ipython3",
   "version": "3.11.7"
  }
 },
 "nbformat": 4,
 "nbformat_minor": 5
}
