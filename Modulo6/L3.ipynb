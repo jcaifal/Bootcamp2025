{
 "cells": [
  {
   "cell_type": "code",
   "execution_count": 1,
   "id": "a1d245df",
   "metadata": {},
   "outputs": [
    {
     "name": "stdout",
     "output_type": "stream",
     "text": [
      "DataFrame original:\n",
      "   ID  Edad     Ciudad  Ingresos\n",
      "0   1    25     Madrid   30000.0\n",
      "1   2    45    Sevilla   50000.0\n",
      "2   3    30     Madrid       NaN\n",
      "3   4    40  Barcelona   40000.0\n"
     ]
    }
   ],
   "source": [
    "import pandas as pd\n",
    "import numpy as np\n",
    "from sklearn.preprocessing import LabelEncoder, OneHotEncoder, MinMaxScaler, StandardScaler\n",
    "\n",
    "\n",
    "# 1. Crear el DataFrame con los datos del cliente\n",
    "data = {\n",
    "    'ID': [1, 2, 3, 4],\n",
    "    'Edad': [25, 45, 30, 40],\n",
    "    'Ciudad': ['Madrid', 'Sevilla', 'Madrid', 'Barcelona'],\n",
    "    'Ingresos': [30000, 50000, np.nan, 40000]\n",
    "}\n",
    "\n",
    "df = pd.DataFrame(data)\n",
    "print(\"DataFrame original:\")\n",
    "print(df)"
   ]
  },
  {
   "cell_type": "code",
   "execution_count": 2,
   "id": "29069cf3",
   "metadata": {},
   "outputs": [],
   "source": [
    "\n",
    "# 2. Imputar el valor faltante en 'Ingresos' con la media\n",
    "df['Ingresos'] = df['Ingresos'].fillna(df['Ingresos'].mean())\n",
    "\n",
    "# 3. Label Encoding para 'Ciudad'\n",
    "label_encoder = LabelEncoder()\n",
    "df['Ciudad_Label'] = label_encoder.fit_transform(df['Ciudad'])\n"
   ]
  },
  {
   "cell_type": "code",
   "execution_count": 3,
   "id": "5f75e6fa",
   "metadata": {},
   "outputs": [
    {
     "name": "stdout",
     "output_type": "stream",
     "text": [
      "   ID  Edad     Ciudad  Ingresos  Ciudad_Label  Ciudad_Barcelona  \\\n",
      "0   1    25     Madrid   30000.0             1               0.0   \n",
      "1   2    45    Sevilla   50000.0             2               0.0   \n",
      "2   3    30     Madrid   40000.0             1               0.0   \n",
      "3   4    40  Barcelona   40000.0             0               1.0   \n",
      "\n",
      "   Ciudad_Madrid  Ciudad_Sevilla  Ciudad_Barcelona  Ciudad_Madrid  \\\n",
      "0            1.0             0.0             False           True   \n",
      "1            0.0             1.0             False          False   \n",
      "2            1.0             0.0             False           True   \n",
      "3            0.0             0.0              True          False   \n",
      "\n",
      "   Ciudad_Sevilla  Edad_MinMax  Ingresos_MinMax  Edad_ZScore  Ingresos_ZScore  \n",
      "0           False         0.00              0.0    -1.264911        -1.414214  \n",
      "1            True         1.00              1.0     1.264911         1.414214  \n",
      "2           False         0.25              0.5    -0.632456         0.000000  \n",
      "3           False         0.75              0.5     0.632456         0.000000  \n"
     ]
    }
   ],
   "source": [
    "\n",
    "# 4. One-Hot Encoding para 'Ciudad'\n",
    "one_hot_encoder = OneHotEncoder(sparse_output=False)\n",
    "ciudad_encoded = one_hot_encoder.fit_transform(df[['Ciudad']])\n",
    "ciudad_encoded_df = pd.DataFrame(ciudad_encoded, columns=one_hot_encoder.get_feature_names_out(['Ciudad']))\n",
    "\n",
    "# 5. Variables Dummy para 'Ciudad'\n",
    "dummy_df = pd.get_dummies(df['Ciudad'], prefix='Ciudad')\n",
    "\n",
    "\n",
    "# 6. Normalización Min-Max\n",
    "min_max_scaler = MinMaxScaler()\n",
    "scaled_minmax = min_max_scaler.fit_transform(df[['Edad', 'Ingresos']])\n",
    "scaled_minmax_df = pd.DataFrame(scaled_minmax, columns=['Edad_MinMax', 'Ingresos_MinMax'])\n",
    "\n",
    "# 7. Estandarización Z-Score\n",
    "zscore_scaler = StandardScaler()\n",
    "scaled_zscore = zscore_scaler.fit_transform(df[['Edad', 'Ingresos']])\n",
    "scaled_zscore_df = pd.DataFrame(scaled_zscore, columns=['Edad_ZScore', 'Ingresos_ZScore'])\n",
    "\n",
    "# 8. Combinar todos los resultados en un solo DataFrame\n",
    "result_df = pd.concat([df, ciudad_encoded_df, dummy_df, scaled_minmax_df, scaled_zscore_df], axis=1)\n",
    "\n",
    "\n",
    "# 9. Mostrar el DataFrame final\n",
    "print(result_df)\n"
   ]
  },
  {
   "cell_type": "code",
   "execution_count": null,
   "id": "fa13e30b",
   "metadata": {},
   "outputs": [],
   "source": []
  }
 ],
 "metadata": {
  "kernelspec": {
   "display_name": "base",
   "language": "python",
   "name": "python3"
  },
  "language_info": {
   "codemirror_mode": {
    "name": "ipython",
    "version": 3
   },
   "file_extension": ".py",
   "mimetype": "text/x-python",
   "name": "python",
   "nbconvert_exporter": "python",
   "pygments_lexer": "ipython3",
   "version": "3.11.7"
  }
 },
 "nbformat": 4,
 "nbformat_minor": 5
}
