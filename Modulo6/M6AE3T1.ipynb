{
 "cells": [
  {
   "cell_type": "code",
   "execution_count": 18,
   "id": "1818b25e",
   "metadata": {},
   "outputs": [
    {
     "name": "stdout",
     "output_type": "stream",
     "text": [
      "\n",
      " Resumen inicial:\n",
      "<class 'pandas.core.frame.DataFrame'>\n",
      "RangeIndex: 102 entries, 0 to 101\n",
      "Data columns (total 6 columns):\n",
      " #   Column     Non-Null Count  Dtype  \n",
      "---  ------     --------------  -----  \n",
      " 0   PlantaID   102 non-null    int64  \n",
      " 1   Tipo       97 non-null     object \n",
      " 2   Altura_cm  97 non-null     object \n",
      " 3   Ancho_cm   102 non-null    object \n",
      " 4   Precio     98 non-null     object \n",
      " 5   En_stock   85 non-null     float64\n",
      "dtypes: float64(1), int64(1), object(4)\n",
      "memory usage: 4.9+ KB\n",
      "None\n",
      "          PlantaID      Tipo Altura_cm Ancho_cm Precio   En_stock\n",
      "count   102.000000        97        97      102     98  85.000000\n",
      "unique         NaN         4        90       92     83        NaN\n",
      "top            NaN  Orquídea      81,5     24,7   12,0        NaN\n",
      "freq           NaN        29         3        2      3        NaN\n",
      "mean     49.627451       NaN       NaN      NaN    NaN   0.494118\n",
      "std      29.385765       NaN       NaN      NaN    NaN   0.502933\n",
      "min       1.000000       NaN       NaN      NaN    NaN   0.000000\n",
      "25%      24.250000       NaN       NaN      NaN    NaN   0.000000\n",
      "50%      49.500000       NaN       NaN      NaN    NaN   0.000000\n",
      "75%      74.750000       NaN       NaN      NaN    NaN   1.000000\n",
      "max     100.000000       NaN       NaN      NaN    NaN   1.000000\n"
     ]
    }
   ],
   "source": [
    "import pandas as pd\n",
    "import numpy as np\n",
    "from sklearn.impute import SimpleImputer\n",
    "from sklearn.preprocessing import OneHotEncoder, LabelEncoder, MinMaxScaler, StandardScaler\n",
    "\n",
    "# ===== 1. Cargar dataset =====\n",
    "df = pd.read_csv('Actividad 1. dataset_vivero.csv', sep=';', encoding='latin1')\n",
    "\n",
    "print(\"\\n Resumen inicial:\")\n",
    "print(df.info())\n",
    "print(df.describe(include='all'))"
   ]
  },
  {
   "cell_type": "code",
   "execution_count": 19,
   "id": "cacff798",
   "metadata": {},
   "outputs": [
    {
     "name": "stdout",
     "output_type": "stream",
     "text": [
      "\n",
      "🔍 Valores faltantes por columna:\n",
      "PlantaID      0\n",
      "Tipo          5\n",
      "Altura_cm     5\n",
      "Ancho_cm      0\n",
      "Precio        4\n",
      "En_stock     17\n",
      "dtype: int64\n",
      "\n",
      "🔍 Filas duplicadas: 2\n"
     ]
    }
   ],
   "source": [
    "# ===== 2. Detectar problemas =====\n",
    "print(\"\\n🔍 Valores faltantes por columna:\")\n",
    "print(df.isnull().sum())\n",
    "\n",
    "print(f\"\\n🔍 Filas duplicadas: {df.duplicated().sum()}\")"
   ]
  },
  {
   "cell_type": "code",
   "execution_count": 20,
   "id": "296769d9",
   "metadata": {},
   "outputs": [
    {
     "name": "stdout",
     "output_type": "stream",
     "text": [
      "\n",
      " Variables categóricas detectadas: ['Tipo', 'Altura_cm', 'Ancho_cm', 'Precio']\n",
      " Variables numéricas detectadas: ['PlantaID', 'En_stock']\n"
     ]
    }
   ],
   "source": [
    "# Columnas numéricas y categóricas\n",
    "num_cols = df.select_dtypes(include=['int64', 'float64']).columns.tolist()\n",
    "cat_cols = df.select_dtypes(include=['object', 'category']).columns.tolist()\n",
    "\n",
    "print(\"\\n Variables categóricas detectadas:\", cat_cols)\n",
    "print(\" Variables numéricas detectadas:\", num_cols)"
   ]
  },
  {
   "cell_type": "code",
   "execution_count": 21,
   "id": "b3d3fe1e",
   "metadata": {},
   "outputs": [
    {
     "name": "stdout",
     "output_type": "stream",
     "text": [
      "\n",
      " Rangos de variables numéricas (posible diferencia de escala):\n",
      "PlantaID: min=1, max=100\n",
      "En_stock: min=0.0, max=1.0\n"
     ]
    }
   ],
   "source": [
    "# Escalas distintas: mostrar rangos\n",
    "print(\"\\n Rangos de variables numéricas (posible diferencia de escala):\")\n",
    "for col in num_cols:\n",
    "    print(f\"{col}: min={df[col].min()}, max={df[col].max()}\")\n"
   ]
  },
  {
   "cell_type": "code",
   "execution_count": 22,
   "id": "abee5bb5",
   "metadata": {},
   "outputs": [],
   "source": [
    "# ===== 3. Imputación de valores faltantes =====\n",
    "num_imputer = SimpleImputer(strategy='mean')  # Cambiar a 'median' si lo prefieres\n",
    "df[num_cols] = num_imputer.fit_transform(df[num_cols])\n",
    "\n",
    "cat_imputer = SimpleImputer(strategy='most_frequent')\n",
    "df[cat_cols] = cat_imputer.fit_transform(df[cat_cols])"
   ]
  },
  {
   "cell_type": "code",
   "execution_count": 23,
   "id": "eebc0a57",
   "metadata": {},
   "outputs": [],
   "source": [
    "# ===== 4. Codificación de variables categóricas =====\n",
    "df_encoded = df.copy()\n",
    "for col in cat_cols:\n",
    "    if df[col].nunique() <= 2:\n",
    "        # LabelEncoder para variables binarias\n",
    "        le = LabelEncoder()\n",
    "        df_encoded[col] = le.fit_transform(df[col])\n",
    "    else:\n",
    "        # OneHotEncoder para variables con más categorías\n",
    "        df_encoded = pd.get_dummies(df_encoded, columns=[col])"
   ]
  },
  {
   "cell_type": "code",
   "execution_count": 24,
   "id": "50d34413",
   "metadata": {},
   "outputs": [],
   "source": [
    "# ===== 5. Escalamiento =====\n",
    "scaler = StandardScaler()  # Cambiar a MinMaxScaler() si lo prefieres\n",
    "df_encoded[num_cols] = scaler.fit_transform(df_encoded[num_cols])"
   ]
  },
  {
   "cell_type": "code",
   "execution_count": 25,
   "id": "5ff81ad4",
   "metadata": {},
   "outputs": [
    {
     "name": "stdout",
     "output_type": "stream",
     "text": [
      "\n",
      " Datos originales (primeras filas):\n",
      "   PlantaID      Tipo Altura_cm Ancho_cm Precio  En_stock\n",
      "0       1.0      Rosa      18,3     42,1    4,7  0.000000\n",
      "1       2.0  Orquídea      81,8     14,2   20,0  0.494118\n",
      "2       3.0   Tulipán      48,0     18,1   20,3  1.000000\n",
      "3       4.0   Tulipán      68,4     54,9   23,4  1.000000\n",
      "4       5.0  Orquídea     110,3     40,3   26,2  0.000000\n"
     ]
    }
   ],
   "source": [
    "# ===== 6. Resultados =====\n",
    "print(\"\\n Datos originales (primeras filas):\")\n",
    "print(df.head())"
   ]
  },
  {
   "cell_type": "code",
   "execution_count": 26,
   "id": "99c08c63",
   "metadata": {},
   "outputs": [
    {
     "name": "stdout",
     "output_type": "stream",
     "text": [
      "\n",
      " Datos procesados (primeras filas):\n",
      "   PlantaID      En_stock  Tipo_Girasol  Tipo_Orquídea  Tipo_Rosa  \\\n",
      "0 -1.662968 -1.082632e+00         False          False       True   \n",
      "1 -1.628770  1.216273e-16         False           True      False   \n",
      "2 -1.594572  1.108409e+00         False          False      False   \n",
      "3 -1.560374  1.108409e+00         False          False      False   \n",
      "4 -1.526175 -1.082632e+00         False           True      False   \n",
      "\n",
      "   Tipo_Tulipán  Altura_cm_100,8  Altura_cm_100,9  Altura_cm_102,7  \\\n",
      "0         False            False            False            False   \n",
      "1         False            False            False            False   \n",
      "2          True            False            False            False   \n",
      "3          True            False            False            False   \n",
      "4         False            False            False            False   \n",
      "\n",
      "   Altura_cm_105,4  ...  Precio_5,5  Precio_6,0  Precio_6,1  Precio_6,7  \\\n",
      "0            False  ...       False       False       False       False   \n",
      "1            False  ...       False       False       False       False   \n",
      "2            False  ...       False       False       False       False   \n",
      "3            False  ...       False       False       False       False   \n",
      "4            False  ...       False       False       False       False   \n",
      "\n",
      "   Precio_6,8  Precio_8,0  Precio_8,2  Precio_8,5  Precio_8,7  Precio_9,3  \n",
      "0       False       False       False       False       False       False  \n",
      "1       False       False       False       False       False       False  \n",
      "2       False       False       False       False       False       False  \n",
      "3       False       False       False       False       False       False  \n",
      "4       False       False       False       False       False       False  \n",
      "\n",
      "[5 rows x 271 columns]\n"
     ]
    }
   ],
   "source": [
    "print(\"\\n Datos procesados (primeras filas):\")\n",
    "print(df_encoded.head())"
   ]
  },
  {
   "cell_type": "code",
   "execution_count": 27,
   "id": "6adfa0b0",
   "metadata": {},
   "outputs": [
    {
     "name": "stdout",
     "output_type": "stream",
     "text": [
      "\n",
      " Información final:\n",
      "<class 'pandas.core.frame.DataFrame'>\n",
      "RangeIndex: 102 entries, 0 to 101\n",
      "Columns: 271 entries, PlantaID to Precio_9,3\n",
      "dtypes: bool(269), float64(2)\n",
      "memory usage: 28.5 KB\n",
      "None\n"
     ]
    }
   ],
   "source": [
    "print(\"\\n Información final:\")\n",
    "print(df_encoded.info())"
   ]
  }
 ],
 "metadata": {
  "kernelspec": {
   "display_name": "base",
   "language": "python",
   "name": "python3"
  },
  "language_info": {
   "codemirror_mode": {
    "name": "ipython",
    "version": 3
   },
   "file_extension": ".py",
   "mimetype": "text/x-python",
   "name": "python",
   "nbconvert_exporter": "python",
   "pygments_lexer": "ipython3",
   "version": "3.11.7"
  }
 },
 "nbformat": 4,
 "nbformat_minor": 5
}
