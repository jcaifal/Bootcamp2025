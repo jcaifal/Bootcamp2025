{
 "cells": [
  {
   "cell_type": "code",
   "execution_count": null,
   "id": "4db969e5",
   "metadata": {},
   "outputs": [],
   "source": [
    "import pandas as pd\n",
    "\n",
    "# Cargar el archivo CSV\n",
    "df = pd.read_csv('ventas_ecommerce.csv')\n",
    "\n",
    "# 1. Eliminar filas duplicadas\n",
    "df.drop_duplicates(inplace=True)\n",
    "\n",
    "# 2. Identificar columnas con valores nulos\n",
    "print(\"Valores nulos por columna:\")\n",
    "print(df.isnull().sum())\n",
    "\n",
    "# 3. Imputar o eliminar valores nulos según el caso\n",
    "# (Aquí puedes personalizar según el análisis de cada columna)\n",
    "# Ejemplo: eliminar filas si 'producto' está vacío, imputar si 'precio' está vacío\n",
    "df.dropna(subset=['producto'], inplace=True)\n",
    "df['precio'] = df['precio'].fillna(df['precio'].mean())\n",
    "\n",
    "# 4. Corregir valores incorrectos en la columna 'metodo de pago'\n",
    "df['metodo de pago'] = df['metodo de pago'].replace({\n",
    "    'tajeta': 'tarjeta',\n",
    "    'efetivo': 'efectivo',\n",
    "    'tarjea': 'tarjeta',\n",
    "    'tarjeta ': 'tarjeta',\n",
    "    'efectivoo': 'efectivo'\n",
    "})\n",
    "\n",
    "# 5. Asegurar que las fechas estén en formato datetime\n",
    "df['fecha'] = pd.to_datetime(df['fecha'], errors='coerce')\n",
    "\n",
    "# 6. Asegurar que los precios estén en formato float\n",
    "df['precio'] = df['precio'].astype(float)\n",
    "\n",
    "# Mostrar resumen del DataFrame limpio\n",
    "print(\"\\nResumen del DataFrame limpio:\")\n",
    "print(df.info())\n",
    "\n",
    "# Guardar el DataFrame limpio si se desea\n",
    "df.to_csv('ventas_ecommerce_limpio.csv', index=False)\n",
    "\n",
    "\n"
   ]
  }
 ],
 "metadata": {
  "language_info": {
   "name": "python"
  }
 },
 "nbformat": 4,
 "nbformat_minor": 5
}
