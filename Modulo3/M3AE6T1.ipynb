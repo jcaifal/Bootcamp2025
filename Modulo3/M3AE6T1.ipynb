{
 "cells": [
  {
   "cell_type": "code",
   "execution_count": null,
   "id": "c59029cc",
   "metadata": {},
   "outputs": [],
   "source": [
    "import pandas as pd\n",
    "\n",
    "# Cargar el archivo CSV\n",
    "df = pd.read_csv('ventas_productos.csv')\n",
    "\n",
    "# Convertir la columna 'fecha' a tipo datetime\n",
    "df['fecha'] = pd.to_datetime(df['fecha'], errors='coerce')\n",
    "\n",
    "# Extraer el mes en una nueva columna\n",
    "df['mes'] = df['fecha'].dt.month\n",
    "\n",
    "# Agrupar por 'categoria' y 'mes' y calcular la suma de ventas\n",
    "ventas_agrupadas = df.groupby(['categoria', 'mes'])['ventas'].sum().reset_index()\n",
    "\n",
    "# Pivotear el resultado: categorías en filas, meses en columnas\n",
    "ventas_pivot = ventas_agrupadas.pivot(index='categoria', columns='mes', values='ventas')\n",
    "\n",
    "# Exportar el DataFrame pivotado como CSV\n",
    "ventas_pivot.to_csv('reporte_categorias.csv')\n",
    "\n",
    "# Mostrar una vista previa del resultado\n",
    "print(\"Reporte pivotado:\")\n",
    "print(ventas_pivot.head())\n",
    "# Mostrar el DataFrame original para referencia\n",
    "print(\"\\nDatos originales:\")\n",
    "print(df.head())    "
   ]
  }
 ],
 "metadata": {
  "language_info": {
   "name": "python"
  }
 },
 "nbformat": 4,
 "nbformat_minor": 5
}
