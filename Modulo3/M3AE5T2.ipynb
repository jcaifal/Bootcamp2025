{
 "cells": [
  {
   "cell_type": "code",
   "execution_count": null,
   "id": "f07aae90",
   "metadata": {},
   "outputs": [],
   "source": [
    "import pandas as pd\n",
    "\n",
    "# Cargar el archivo CSV\n",
    "df = pd.read_csv('empleados.csv')\n",
    "\n",
    "# Agrupar por área y calcular promedio de antigüedad y edad\n",
    "promedios = df.groupby('área')[['antigüedad', 'edad']].mean()\n",
    "print(\"Promedios por área:\")\n",
    "print(promedios)\n",
    "\n",
    "# Discretizar la edad en categorías\n",
    "def clasificar_edad(edad):\n",
    "    if edad <= 30:\n",
    "        return 'joven'\n",
    "    elif 31 <= edad <= 45:\n",
    "        return 'medio'\n",
    "    else:\n",
    "        return 'senior'\n",
    "\n",
    "df['categoria_edad'] = df['edad'].apply(clasificar_edad)\n",
    "\n",
    "# Clasificar empleados según su permanencia\n",
    "df['clasificacion_antiguedad'] = df['antigüedad'].apply(lambda x: 'estable' if x > 5 else 'nuevo')\n",
    "\n",
    "# Exportar el DataFrame limpio\n",
    "df.to_csv('empleados_limpio.csv', index=False)\n",
    "\n",
    "# Mostrar resumen final\n",
    "print(\"\\nDataFrame transformado:\")\n",
    "print(df.head())\n",
    "# Mostrar la cantidad de empleados por categoría de edad\n",
    "cantidad_por_categoria = df['categoria_edad'].value_counts()"
   ]
  }
 ],
 "metadata": {
  "language_info": {
   "name": "python"
  }
 },
 "nbformat": 4,
 "nbformat_minor": 5
}
