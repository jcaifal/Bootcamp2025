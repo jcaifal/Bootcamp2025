{
 "cells": [
  {
   "cell_type": "code",
   "execution_count": null,
   "id": "9b04c987",
   "metadata": {},
   "outputs": [],
   "source": [
    "import pandas as pd\n",
    "\n",
    "# Cargar los archivos CSV\n",
    "usuarios = pd.read_csv('usuarios.csv')\n",
    "compras = pd.read_csv('compras.csv')\n",
    "\n",
    "# Unir ambos datasets por 'user_id'\n",
    "df_merged = pd.merge(usuarios, compras, on='user_id')\n",
    "\n",
    "# Agrupar por segmento y calcular cantidad de compras y monto total\n",
    "resumen_segmento = df_merged.groupby('segmento').agg(\n",
    "    cantidad_compras=('compra_id', 'count'),\n",
    "    monto_total=('monto', 'sum')\n",
    ").reset_index()\n",
    "\n",
    "# Ordenar los resultados de mayor a menor cantidad de compras\n",
    "resumen_segmento = resumen_segmento.sort_values(by='cantidad_compras', ascending=False)\n",
    "\n",
    "# Mostrar el resumen\n",
    "print(\"Resumen por segmento:\")\n",
    "print(resumen_segmento)\n",
    "\n",
    "# Exportar el DataFrame como CSV\n",
    "resumen_segmento.to_csv('resumen_segmentos.csv', index=False)\n",
    "# Exportar el DataFrame como Excel\n",
    "resumen_segmento.to_excel('resumen_segmentos.xlsx', index=False)"
   ]
  }
 ],
 "metadata": {
  "language_info": {
   "name": "python"
  }
 },
 "nbformat": 4,
 "nbformat_minor": 5
}
