{
 "cells": [
  {
   "cell_type": "markdown",
   "id": "622fa733",
   "metadata": {},
   "source": [
    "Análisis de Caso\n",
    "Nombre del tema: Aplicación de NumPy en el Análisis de Datos"
   ]
  },
  {
   "cell_type": "markdown",
   "id": "25e58534",
   "metadata": {},
   "source": [
    "1. Carga y estructuración de datos:\n",
    "○ Crea un array NumPy con datos financieros simulados (por ejemplo,precios de acciones en diferentes días).\n",
    "○ Organiza los datos en una matriz de 5x5, donde cada fila representa una acción y cada columna un día de cotización."
   ]
  },
  {
   "cell_type": "code",
   "execution_count": null,
   "id": "9ad8310c",
   "metadata": {},
   "outputs": [
    {
     "name": "stdout",
     "output_type": "stream",
     "text": [
      "Matriz de datos financieros:\n",
      "[[1000 1500 2000 1500 1390]\n",
      " [ 800 1200 1800 1600 1000]\n",
      " [ 200  300  400  350  480]\n",
      " [  50   75  100   50  100]\n",
      " [ 150  225  300  200  230]]\n"
     ]
    }
   ],
   "source": [
    "#importamos la librería numpy\n",
    "import numpy as np\n",
    "\n",
    "#creamos un array con datos financieros con 25 ejemplos\n",
    "datos_financieros = np.array([[1000, 1500, 2000, 1500, 1390],   \n",
    "                              [800, 1200, 1800, 1600, 1000],    \n",
    "                              [200, 300, 400, 350, 480],      \n",
    "                              [50, 75, 100, 50, 100],        \n",
    "                              [150, 225, 300,200, 230 ]])     \n",
    "\n",
    "\n",
    "#organizamos los datos en una matriz de 5 filas y 5 columnas\n",
    "datos_financieros = datos_financieros.reshape(5, 5) \n",
    "#mostramos la matriz\n",
    "print(\"Matriz de datos financieros:\")\n",
    "print(datos_financieros)"
   ]
  },
  {
   "cell_type": "markdown",
   "id": "2f4b942e",
   "metadata": {},
   "source": [
    "2. Análisis y transformación de datos:\n",
    "○ Obtén el promedio, valor máximo y mínimo de cada acción a lo largo del tiempo.\n",
    "○ Calcula la variación porcentual diaria de cada acción.\n",
    "○ Aplica funciones matemáticas como logaritmo, exponencial o normalización sobre los datos."
   ]
  },
  {
   "cell_type": "code",
   "execution_count": 2,
   "id": "40d7f7d0",
   "metadata": {},
   "outputs": [
    {
     "name": "stdout",
     "output_type": "stream",
     "text": [
      "\n",
      "Promedio de cada fila:\n",
      "[1478. 1280.  346.   75.  221.]\n"
     ]
    }
   ],
   "source": [
    "#obtenemos el promedio de cada fila y mostramos el resultado    \n",
    "promedios_filas = np.mean(datos_financieros, axis=1)    \n",
    "print(\"\\nPromedio de cada fila:\")\n",
    "print(promedios_filas)"
   ]
  },
  {
   "cell_type": "code",
   "execution_count": 3,
   "id": "03ce263c",
   "metadata": {},
   "outputs": [
    {
     "name": "stdout",
     "output_type": "stream",
     "text": [
      "\n",
      "Valor máximo de cada fila:\n",
      "[2000 1800  480  100  300]\n"
     ]
    }
   ],
   "source": [
    "#calculamos el valor máximo de cada fila y mostramos el resultado\n",
    "maximos_filas = np.max(datos_financieros, axis=1)\n",
    "print(\"\\nValor máximo de cada fila:\")\n",
    "print(maximos_filas)"
   ]
  },
  {
   "cell_type": "code",
   "execution_count": 4,
   "id": "3edebc72",
   "metadata": {},
   "outputs": [
    {
     "name": "stdout",
     "output_type": "stream",
     "text": [
      "\n",
      "Valor mínimo de cada fila:\n",
      "[1000  800  200   50  150]\n"
     ]
    }
   ],
   "source": [
    "#calculamos el minimo de cada fila y mostramos el resultado\n",
    "minimos_filas = np.min(datos_financieros, axis=1)\n",
    "print(\"\\nValor mínimo de cada fila:\")\n",
    "print(minimos_filas)"
   ]
  },
  {
   "cell_type": "code",
   "execution_count": 5,
   "id": "c1cf56bd",
   "metadata": {},
   "outputs": [
    {
     "name": "stdout",
     "output_type": "stream",
     "text": [
      "\n",
      "Variación porcentual de cada fila:\n",
      "[[ 50.          33.33333333 -25.          -7.33333333]\n",
      " [ 50.          50.         -11.11111111 -37.5       ]\n",
      " [ 50.          33.33333333 -12.5         37.14285714]\n",
      " [ 50.          33.33333333 -50.         100.        ]\n",
      " [ 50.          33.33333333 -33.33333333  15.        ]]\n"
     ]
    }
   ],
   "source": [
    "#Calculamos la variación porcentual de cada fila y mostramos el resultado\n",
    "variacion_porcentual = np.diff(datos_financieros, axis=1) / datos_financieros[:, :-1] * 100 \n",
    "print(\"\\nVariación porcentual de cada fila:\")\n",
    "print(variacion_porcentual)"
   ]
  },
  {
   "cell_type": "code",
   "execution_count": 6,
   "id": "fc17a4b0",
   "metadata": {},
   "outputs": [
    {
     "name": "stdout",
     "output_type": "stream",
     "text": [
      "\n",
      "Logaritmo natural de cada elemento de la matriz:\n",
      "[[6.90775528 7.31322039 7.60090246 7.31322039 7.23705903]\n",
      " [6.68461173 7.09007684 7.49554194 7.37775891 6.90775528]\n",
      " [5.29831737 5.70378247 5.99146455 5.85793315 6.1737861 ]\n",
      " [3.91202301 4.31748811 4.60517019 3.91202301 4.60517019]\n",
      " [5.01063529 5.4161004  5.70378247 5.29831737 5.43807931]]\n"
     ]
    }
   ],
   "source": [
    "#calculamnos el logaritmo natural de cada elemento de la matriz y mostramos el resultado\n",
    "logaritmos_naturales = np.log(datos_financieros)    \n",
    "print(\"\\nLogaritmo natural de cada elemento de la matriz:\")\n",
    "print(logaritmos_naturales)"
   ]
  },
  {
   "cell_type": "code",
   "execution_count": 7,
   "id": "2c522a1c",
   "metadata": {},
   "outputs": [
    {
     "name": "stdout",
     "output_type": "stream",
     "text": [
      "\n",
      "Exponencial de cada elemento de la matriz:\n",
      "[[            inf             inf             inf             inf\n",
      "              inf]\n",
      " [            inf             inf             inf             inf\n",
      "              inf]\n",
      " [7.22597377e+086 1.94242640e+130 5.22146969e+173 1.00709089e+152\n",
      "  2.89301918e+208]\n",
      " [5.18470553e+021 3.73324200e+032 2.68811714e+043 5.18470553e+021\n",
      "  2.68811714e+043]\n",
      " [1.39370958e+065 5.20305514e+097 1.94242640e+130 7.22597377e+086\n",
      "  7.72201850e+099]]\n"
     ]
    },
    {
     "name": "stderr",
     "output_type": "stream",
     "text": [
      "C:\\Users\\JuanCaifal\\AppData\\Local\\Temp\\ipykernel_58696\\3483997953.py:2: RuntimeWarning: overflow encountered in exp\n",
      "  exponenciales = np.exp(datos_financieros)\n"
     ]
    }
   ],
   "source": [
    "#calculamos la exponencial de cada elemento de la matriz y mostramos el resultado\n",
    "exponenciales = np.exp(datos_financieros)\n",
    "print(\"\\nExponencial de cada elemento de la matriz:\")\n",
    "print(exponenciales)"
   ]
  },
  {
   "cell_type": "code",
   "execution_count": 8,
   "id": "08a5c887",
   "metadata": {},
   "outputs": [
    {
     "name": "stdout",
     "output_type": "stream",
     "text": [
      "\n",
      "Normalización de cada fila:\n",
      "[[0.         0.5        1.         0.5        0.39      ]\n",
      " [0.         0.4        1.         0.8        0.2       ]\n",
      " [0.         0.35714286 0.71428571 0.53571429 1.        ]\n",
      " [0.         0.5        1.         0.         1.        ]\n",
      " [0.         0.5        1.         0.33333333 0.53333333]]\n"
     ]
    }
   ],
   "source": [
    "#claculamos la normalización de cada fila y mostramos el resultado\n",
    "normalizacion_filas = (datos_financieros - np.min(datos_financieros, axis=1, keepdims=True)) / (np.max(datos_financieros, axis=1, keepdims=True) - np.min(datos_financieros, axis=1, keepdims=True))    \n",
    "print(\"\\nNormalización de cada fila:\")\n",
    "print(normalizacion_filas)"
   ]
  },
  {
   "cell_type": "markdown",
   "id": "9991e00e",
   "metadata": {},
   "source": [
    "3. Optimización y selección de datos:\n",
    "○ Utiliza indexación avanzada para extraer información específica, como el rendimiento de una acción en un día determinado.\n",
    "○ Aplica broadcasting para realizar operaciones sin necesidad de bucles."
   ]
  },
  {
   "cell_type": "code",
   "execution_count": 9,
   "id": "5b18c17c",
   "metadata": {},
   "outputs": [
    {
     "name": "stdout",
     "output_type": "stream",
     "text": [
      "\n",
      "Valor de la fila 2 y columna 3:\n",
      "1800\n"
     ]
    }
   ],
   "source": [
    "#utilizamos la indexacion sobre la matriz para obtener el valor de la fila 2 y columna 3\n",
    "valor_fila_2_columna_3 = datos_financieros[1, 2]    \n",
    "print(\"\\nValor de la fila 2 y columna 3:\")\n",
    "print(valor_fila_2_columna_3)"
   ]
  },
  {
   "cell_type": "code",
   "execution_count": 12,
   "id": "23104f98",
   "metadata": {},
   "outputs": [
    {
     "name": "stdout",
     "output_type": "stream",
     "text": [
      "[[1000 1500 2000 1500 1390]\n",
      " [ 800 1200 1800 1600 1000]\n",
      " [ 200  300  400  350  480]\n",
      " [  50   75  100   50  100]\n",
      " [ 150  225  300  200  230]]\n",
      "[[1010 1520 2030 1540 1440]\n",
      " [ 810 1220 1830 1640 1050]\n",
      " [ 210  320  430  390  530]\n",
      " [  60   95  130   90  150]\n",
      " [ 160  245  330  240  280]]\n"
     ]
    }
   ],
   "source": [
    "#aplicamos broadcasting para sumar un vector a cada fila de la matriz datos_financieros   \n",
    "\n",
    "vector_suma = np.array([10, 20, 30, 40, 50])    \n",
    "\n",
    "\n",
    "datos_ajustados = datos_financieros + vector_suma\n",
    "\n",
    "# mostamos matriz original\n",
    "print(datos_financieros)   \n",
    "\n",
    "#mostramos la nueva matriz\n",
    "print(datos_ajustados)\n"
   ]
  },
  {
   "cell_type": "markdown",
   "id": "3aac96ea",
   "metadata": {},
   "source": [
    "4. Comparación con otros métodos:\n",
    "○ Analiza cómo se podrían realizar estas tareas sin NumPy y compara la eficiencia en términos de código y rendimiento computacional."
   ]
  },
  {
   "cell_type": "code",
   "execution_count": 13,
   "id": "39de0014",
   "metadata": {},
   "outputs": [
    {
     "name": "stdout",
     "output_type": "stream",
     "text": [
      "Tamaño de la lista de Python:  8056\n",
      "Tamaño de la matriz Numpy:  4112\n"
     ]
    }
   ],
   "source": [
    "import sys \n",
    "\n",
    "\n",
    "py_list = list( range ( 1000 )) \n",
    "np_array = np.arange( 1000 )   \n",
    "print ( \"Tamaño de la lista de Python: \" , sys.getsizeof(py_list)) \n",
    "print ( \"Tamaño de la matriz Numpy: \" , sys.getsizeof(np_array))"
   ]
  },
  {
   "cell_type": "code",
   "execution_count": 15,
   "id": "22ef09bd",
   "metadata": {},
   "outputs": [
    {
     "name": "stdout",
     "output_type": "stream",
     "text": [
      "Tiempo necesario para añadir listas de Python:  0.09177923202514648\n",
      "Tiempo necesario para añadir matrices Numpy:  0.0020110607147216797\n"
     ]
    }
   ],
   "source": [
    "import time   \n",
    "\n",
    "# Define dos listas de Python\n",
    "py_list1 = list ( range ( 1000000 )) \n",
    "py_list2 = list ( range ( 1000000 , 2000000 ))   \n",
    "\n",
    "# Define dos matrices Numpy\n",
    "np_array1 = np.arange( 1000000 ) \n",
    "np_array2 = np.arange( 1000000 , 2000000 )   \n",
    "\n",
    "# Añadiendo listas de Python\n",
    "start_time = time.time() \n",
    "result_list = [a + b for a, b in  zip (py_list1, py_list2)] \n",
    "print ( \"Tiempo necesario para añadir listas de Python: \" , time.time() - start_time)   \n",
    "\n",
    "# Añadiendo matrices Numpy\n",
    "start_time = time.time() \n",
    "result_array = np_array1 + np_array2 \n",
    "print ( \"Tiempo necesario para añadir matrices Numpy: \" , time.time() -start_time)"
   ]
  },
  {
   "cell_type": "markdown",
   "id": "a6064765",
   "metadata": {},
   "source": [
    "Con estos dos ejemplos mostramos la eficiencia de numpy sobre python normal."
   ]
  }
 ],
 "metadata": {
  "kernelspec": {
   "display_name": "pyspark-env",
   "language": "python",
   "name": "pyspark-env"
  },
  "language_info": {
   "codemirror_mode": {
    "name": "ipython",
    "version": 3
   },
   "file_extension": ".py",
   "mimetype": "text/x-python",
   "name": "python",
   "nbconvert_exporter": "python",
   "pygments_lexer": "ipython3",
   "version": "3.11.9"
  }
 },
 "nbformat": 4,
 "nbformat_minor": 5
}
