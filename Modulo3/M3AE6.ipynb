{
 "cells": [
  {
   "cell_type": "code",
   "execution_count": null,
   "id": "8526cc05",
   "metadata": {},
   "outputs": [
    {
     "name": "stdout",
     "output_type": "stream",
     "text": [
      "Dataset creado y guardado en ventas_productos.csv\n"
     ]
    },
    {
     "data": {
      "text/html": [
       "<div>\n",
       "<style scoped>\n",
       "    .dataframe tbody tr th:only-of-type {\n",
       "        vertical-align: middle;\n",
       "    }\n",
       "\n",
       "    .dataframe tbody tr th {\n",
       "        vertical-align: top;\n",
       "    }\n",
       "\n",
       "    .dataframe thead th {\n",
       "        text-align: right;\n",
       "    }\n",
       "</style>\n",
       "<table border=\"1\" class=\"dataframe\">\n",
       "  <thead>\n",
       "    <tr style=\"text-align: right;\">\n",
       "      <th></th>\n",
       "      <th>Fecha</th>\n",
       "      <th>Categoría</th>\n",
       "      <th>Producto</th>\n",
       "      <th>Ventas</th>\n",
       "    </tr>\n",
       "  </thead>\n",
       "  <tbody>\n",
       "    <tr>\n",
       "      <th>0</th>\n",
       "      <td>2023-05-02</td>\n",
       "      <td>Libros</td>\n",
       "      <td>No ficción</td>\n",
       "      <td>2</td>\n",
       "    </tr>\n",
       "    <tr>\n",
       "      <th>1</th>\n",
       "      <td>2023-12-19</td>\n",
       "      <td>Electrónica</td>\n",
       "      <td>Smartphone</td>\n",
       "      <td>89</td>\n",
       "    </tr>\n",
       "    <tr>\n",
       "      <th>2</th>\n",
       "      <td>2023-07-07</td>\n",
       "      <td>Ropa</td>\n",
       "      <td>Chaqueta</td>\n",
       "      <td>80</td>\n",
       "    </tr>\n",
       "    <tr>\n",
       "      <th>3</th>\n",
       "      <td>2023-12-11</td>\n",
       "      <td>Electrónica</td>\n",
       "      <td>Auriculares</td>\n",
       "      <td>39</td>\n",
       "    </tr>\n",
       "    <tr>\n",
       "      <th>4</th>\n",
       "      <td>2023-05-16</td>\n",
       "      <td>Ropa</td>\n",
       "      <td>Camisa</td>\n",
       "      <td>18</td>\n",
       "    </tr>\n",
       "  </tbody>\n",
       "</table>\n",
       "</div>"
      ],
      "text/plain": [
       "        Fecha    Categoría     Producto  Ventas\n",
       "0  2023-05-02       Libros   No ficción       2\n",
       "1  2023-12-19  Electrónica   Smartphone      89\n",
       "2  2023-07-07         Ropa     Chaqueta      80\n",
       "3  2023-12-11  Electrónica  Auriculares      39\n",
       "4  2023-05-16         Ropa       Camisa      18"
      ]
     },
     "execution_count": 8,
     "metadata": {},
     "output_type": "execute_result"
    }
   ],
   "source": [
    "import pandas as pd\n",
    "import random\n",
    "from datetime import datetime, timedelta\n",
    "\n",
    "# Generar datos aleatorios\n",
    "categorias = ['Electrónica', 'Ropa', 'Hogar y Cocina', 'Libros', 'Juguetes']\n",
    "productos = {\n",
    "    'Electrónica': ['Laptop', 'Smartphone', 'Auriculares'],\n",
    "    'Ropa': ['Camisa', 'Jeans', 'Chaqueta'],\n",
    "    'Hogar y Cocina': ['Licuadora', 'Tostadora', 'Microondas'],\n",
    "    'Libros': ['Ficción', 'No ficción', 'Cómics'],\n",
    "    'Juguetes': ['Figura de acción', 'Juego de mesa', 'Muñeca']\n",
    "}\n",
    "\n",
    "datos = []\n",
    "fecha_inicio = datetime(2023, 1, 1)\n",
    "for _ in range(100):  # Generar 100 filas de datos\n",
    "    fecha = fecha_inicio + timedelta(days=random.randint(0, 365))\n",
    "    categoria = random.choice(categorias)\n",
    "    producto = random.choice(productos[categoria])\n",
    "    ventas = random.randint(1, 100)\n",
    "    datos.append([fecha.strftime('%Y-%m-%d'), categoria, producto, ventas])\n",
    "\n",
    "# Crear DataFrame\n",
    "df = pd.DataFrame(datos, columns=['Fecha', 'Categoría', 'Producto', 'Ventas'])\n",
    "\n",
    "# Guardar en CSV\n",
    "df.to_csv('ventas_productos.csv', index=False)\n",
    "\n",
    "print(\"Dataset creado y guardado en ventas_productos.csv\")\n",
    "\n",
    "\n",
    "#leemos el csv\n",
    "df1 = pd.read_csv('ventas_productos.csv')\n",
    "\n",
    "\n",
    "#vemos el contenido de df1\n",
    "df1.head()"
   ]
  },
  {
   "cell_type": "code",
   "execution_count": null,
   "id": "38220c14",
   "metadata": {},
   "outputs": [
    {
     "data": {
      "text/html": [
       "<div>\n",
       "<style scoped>\n",
       "    .dataframe tbody tr th:only-of-type {\n",
       "        vertical-align: middle;\n",
       "    }\n",
       "\n",
       "    .dataframe tbody tr th {\n",
       "        vertical-align: top;\n",
       "    }\n",
       "\n",
       "    .dataframe thead th {\n",
       "        text-align: right;\n",
       "    }\n",
       "</style>\n",
       "<table border=\"1\" class=\"dataframe\">\n",
       "  <thead>\n",
       "    <tr style=\"text-align: right;\">\n",
       "      <th></th>\n",
       "      <th>Fecha</th>\n",
       "      <th>Categoría</th>\n",
       "      <th>Producto</th>\n",
       "      <th>Ventas</th>\n",
       "      <th>Mes</th>\n",
       "    </tr>\n",
       "  </thead>\n",
       "  <tbody>\n",
       "    <tr>\n",
       "      <th>0</th>\n",
       "      <td>2023-05-02</td>\n",
       "      <td>Libros</td>\n",
       "      <td>No ficción</td>\n",
       "      <td>2</td>\n",
       "      <td>5</td>\n",
       "    </tr>\n",
       "    <tr>\n",
       "      <th>1</th>\n",
       "      <td>2023-12-19</td>\n",
       "      <td>Electrónica</td>\n",
       "      <td>Smartphone</td>\n",
       "      <td>89</td>\n",
       "      <td>12</td>\n",
       "    </tr>\n",
       "    <tr>\n",
       "      <th>2</th>\n",
       "      <td>2023-07-07</td>\n",
       "      <td>Ropa</td>\n",
       "      <td>Chaqueta</td>\n",
       "      <td>80</td>\n",
       "      <td>7</td>\n",
       "    </tr>\n",
       "    <tr>\n",
       "      <th>3</th>\n",
       "      <td>2023-12-11</td>\n",
       "      <td>Electrónica</td>\n",
       "      <td>Auriculares</td>\n",
       "      <td>39</td>\n",
       "      <td>12</td>\n",
       "    </tr>\n",
       "    <tr>\n",
       "      <th>4</th>\n",
       "      <td>2023-05-16</td>\n",
       "      <td>Ropa</td>\n",
       "      <td>Camisa</td>\n",
       "      <td>18</td>\n",
       "      <td>5</td>\n",
       "    </tr>\n",
       "  </tbody>\n",
       "</table>\n",
       "</div>"
      ],
      "text/plain": [
       "       Fecha    Categoría     Producto  Ventas  Mes\n",
       "0 2023-05-02       Libros   No ficción       2    5\n",
       "1 2023-12-19  Electrónica   Smartphone      89   12\n",
       "2 2023-07-07         Ropa     Chaqueta      80    7\n",
       "3 2023-12-11  Electrónica  Auriculares      39   12\n",
       "4 2023-05-16         Ropa       Camisa      18    5"
      ]
     },
     "execution_count": 9,
     "metadata": {},
     "output_type": "execute_result"
    }
   ],
   "source": [
    "\n",
    "# Convertir la columna Fecha a tipo datetime\n",
    "df1['Fecha'] = pd.to_datetime(df1['Fecha'])\n",
    "\n",
    "# Extraer el mes en una nueva columna\n",
    "df1['Mes'] = df1['Fecha'].dt.month\n",
    "\n",
    "#vemos el nuevo contenido de df1\n",
    "df1.head()"
   ]
  },
  {
   "cell_type": "code",
   "execution_count": null,
   "id": "97d3172c",
   "metadata": {},
   "outputs": [
    {
     "name": "stdout",
     "output_type": "stream",
     "text": [
      "         Categoría  Mes  Ventas\n",
      "0      Electrónica    2      65\n",
      "1      Electrónica    3      77\n",
      "2      Electrónica    4      20\n",
      "3      Electrónica    6      16\n",
      "4      Electrónica    7     172\n",
      "5      Electrónica    9     210\n",
      "6      Electrónica   11      63\n",
      "7      Electrónica   12     265\n",
      "8   Hogar y Cocina    1     182\n",
      "9   Hogar y Cocina    2     108\n",
      "10  Hogar y Cocina    3      71\n",
      "11  Hogar y Cocina    4      29\n",
      "12  Hogar y Cocina    5      80\n",
      "13  Hogar y Cocina    7     406\n",
      "14  Hogar y Cocina    9       8\n",
      "15  Hogar y Cocina   10       7\n",
      "16  Hogar y Cocina   11       6\n",
      "17  Hogar y Cocina   12      56\n",
      "18        Juguetes    2     181\n",
      "19        Juguetes    3      74\n",
      "20        Juguetes    4     212\n",
      "21        Juguetes    5     208\n",
      "22        Juguetes    6      64\n",
      "23        Juguetes    8      31\n",
      "24        Juguetes    9      39\n",
      "25        Juguetes   10     112\n",
      "26        Juguetes   11      16\n",
      "27        Juguetes   12     209\n",
      "28          Libros    1     166\n",
      "29          Libros    2      92\n",
      "30          Libros    3      99\n",
      "31          Libros    4      55\n",
      "32          Libros    5     226\n",
      "33          Libros    6      81\n",
      "34          Libros    7      69\n",
      "35          Libros    8      83\n",
      "36          Libros   12      42\n",
      "37            Ropa    2      96\n",
      "38            Ropa    3     135\n",
      "39            Ropa    5      18\n",
      "40            Ropa    6     185\n",
      "41            Ropa    7      80\n",
      "42            Ropa    8     187\n",
      "43            Ropa    9      86\n",
      "44            Ropa   10     109\n",
      "45            Ropa   11      27\n",
      "46            Ropa   12      12\n"
     ]
    }
   ],
   "source": [
    "\n",
    "# Agrupar por categoría y mes y calcular la suma de ventas\n",
    "df_grouped = df1.groupby(['Categoría', 'Mes']).agg({'Ventas': 'sum'}).reset_index()\n",
    "\n",
    "print(df_grouped)\n"
   ]
  },
  {
   "cell_type": "code",
   "execution_count": null,
   "id": "ad213c09",
   "metadata": {},
   "outputs": [
    {
     "name": "stdout",
     "output_type": "stream",
     "text": [
      "Mes                1      2      3      4      5      6      7      8      9   \\\n",
      "Categoría                                                                       \n",
      "Electrónica       0.0   65.0   77.0   20.0    0.0   16.0  172.0    0.0  210.0   \n",
      "Hogar y Cocina  182.0  108.0   71.0   29.0   80.0    0.0  406.0    0.0    8.0   \n",
      "Juguetes          0.0  181.0   74.0  212.0  208.0   64.0    0.0   31.0   39.0   \n",
      "Libros          166.0   92.0   99.0   55.0  226.0   81.0   69.0   83.0    0.0   \n",
      "Ropa              0.0   96.0  135.0    0.0   18.0  185.0   80.0  187.0   86.0   \n",
      "\n",
      "Mes                10    11     12  \n",
      "Categoría                           \n",
      "Electrónica       0.0  63.0  265.0  \n",
      "Hogar y Cocina    7.0   6.0   56.0  \n",
      "Juguetes        112.0  16.0  209.0  \n",
      "Libros            0.0   0.0   42.0  \n",
      "Ropa            109.0  27.0   12.0  \n"
     ]
    }
   ],
   "source": [
    "\n",
    "# Pivotar el resultado para que las categorías estén en filas y los meses en columnas\n",
    "df_pivoted = df_grouped.pivot(index='Categoría', columns='Mes', values='Ventas').fillna(0)\n",
    "\n",
    "print(df_pivoted)\n"
   ]
  },
  {
   "cell_type": "code",
   "execution_count": null,
   "id": "2c348232",
   "metadata": {},
   "outputs": [],
   "source": [
    "#exportamos el dataframe pivotado como reporte_categorias.csv\n",
    "df_pivoted .to_csv(\"reporte_categorias.csv\", index=False)\n"
   ]
  },
  {
   "cell_type": "code",
   "execution_count": null,
   "id": "50d02032",
   "metadata": {},
   "outputs": [
    {
     "name": "stdout",
     "output_type": "stream",
     "text": [
      "Datasets creados y guardados en usuarios.csv y compras.csv\n"
     ]
    }
   ],
   "source": [
    "import random\n",
    "from datetime import datetime, timedelta\n",
    "\n",
    "# Generar datos aleatorios para el primer dataset\n",
    "segmentos = ['A', 'B', 'C']\n",
    "datos_usuarios = []\n",
    "fecha_inicio = datetime(2023, 1, 1)\n",
    "for user_id in range(1, 101):  # Generar 100 filas de datos\n",
    "    segmento = random.choice(segmentos)\n",
    "    registro_fecha = fecha_inicio + timedelta(days=random.randint(0, 365))\n",
    "    datos_usuarios.append([user_id, segmento, registro_fecha.strftime('%Y-%m-%d')])\n",
    "\n",
    "# Crear DataFrame para el primer dataset\n",
    "df_usuarios = pd.DataFrame(datos_usuarios, columns=['user_id', 'segmento', 'registro_fecha'])\n",
    "\n",
    "# Guardar en CSV\n",
    "df_usuarios.to_csv('usuarios.csv', index=False)\n",
    "\n",
    "# Generar datos aleatorios para el segundo dataset\n",
    "datos_compras = []\n",
    "for compra_id in range(1, 201):  # Generar 200 filas de datos\n",
    "    user_id = random.randint(1, 100)\n",
    "    monto = round(random.uniform(10, 1000), 2)\n",
    "    datos_compras.append([user_id, compra_id, monto])\n",
    "\n",
    "# Crear DataFrame para el segundo dataset\n",
    "df_compras = pd.DataFrame(datos_compras, columns=['user_id', 'compra_id', 'monto'])\n",
    "\n",
    "# Guardar en CSV\n",
    "df_compras.to_csv('compras.csv', index=False)\n",
    "\n",
    "print(\"Datasets creados y guardados en usuarios.csv y compras.csv\")\n"
   ]
  },
  {
   "cell_type": "code",
   "execution_count": null,
   "id": "7e069663",
   "metadata": {},
   "outputs": [
    {
     "name": "stdout",
     "output_type": "stream",
     "text": [
      "   user_id segmento registro_fecha  compra_id   monto\n",
      "0        2        C     2023-07-21         72   91.59\n",
      "1        2        C     2023-07-21        130  945.35\n",
      "2        3        A     2023-04-07         98  658.33\n",
      "3        3        A     2023-04-07        168  851.49\n",
      "4        3        A     2023-04-07        178  369.64\n",
      "Datasets unidos y guardados en usuarios_compras.csv\n"
     ]
    }
   ],
   "source": [
    "\n",
    "# Cargar los datasets\n",
    "df_usuarios = pd.read_csv('usuarios.csv')\n",
    "df_compras = pd.read_csv('compras.csv')\n",
    "\n",
    "# Unir los datasets utilizando merge() por user_id\n",
    "df_merged = pd.merge(df_usuarios, df_compras, on='user_id')\n",
    "\n",
    "# Guardar el resultado en un nuevo archivo CSV\n",
    "df_merged.to_csv('usuarios_compras.csv', index=False)\n",
    "\n",
    "#mostramos el dataset\n",
    "print(df_merged.head())\n",
    "\n",
    "\n",
    "print(\"Datasets unidos y guardados en usuarios_compras.csv\")\n"
   ]
  },
  {
   "cell_type": "code",
   "execution_count": null,
   "id": "ac75ccfc",
   "metadata": {},
   "outputs": [
    {
     "name": "stdout",
     "output_type": "stream",
     "text": [
      "  segmento  cantidad_compras\n",
      "0        A                61\n",
      "1        B                60\n",
      "2        C                79\n"
     ]
    }
   ],
   "source": [
    "\n",
    "# Agrupar por segmento y contar la cantidad de compras realizadas\n",
    "df_segmento_compras = df_merged.groupby('segmento').agg({'compra_id': 'count'}).reset_index()\n",
    "df_segmento_compras.rename(columns={'compra_id': 'cantidad_compras'}, inplace=True)\n",
    "\n",
    "print(df_segmento_compras)\n"
   ]
  },
  {
   "cell_type": "code",
   "execution_count": null,
   "id": "dde71d79",
   "metadata": {},
   "outputs": [
    {
     "name": "stdout",
     "output_type": "stream",
     "text": [
      "  segmento  cantidad_compras  monto_total\n",
      "0        A                61     31155.03\n",
      "1        B                60     30138.35\n",
      "2        C                79     37299.33\n"
     ]
    }
   ],
   "source": [
    "\n",
    "# Agrupar por segmento y calcular la cantidad de compras realizadas y el monto total gastado\n",
    "df_segmento_compras = df_merged.groupby('segmento').agg(cantidad_compras=('compra_id', 'count'), monto_total=('monto', 'sum')).reset_index()\n",
    "\n",
    "print(df_segmento_compras)\n"
   ]
  },
  {
   "cell_type": "code",
   "execution_count": null,
   "id": "5976e5d8",
   "metadata": {},
   "outputs": [
    {
     "name": "stdout",
     "output_type": "stream",
     "text": [
      "  segmento  cantidad_compras  monto_total\n",
      "2        C                79     37299.33\n",
      "0        A                61     31155.03\n",
      "1        B                60     30138.35\n"
     ]
    }
   ],
   "source": [
    "\n",
    "# Ordenar los resultados de mayor a menor cantidad de compras\n",
    "df_segmento_compras_sorted = df_segmento_compras.sort_values(by='cantidad_compras', ascending=False)\n",
    "\n",
    "print(df_segmento_compras_sorted)\n"
   ]
  }
 ],
 "metadata": {
  "kernelspec": {
   "display_name": "base",
   "language": "python",
   "name": "python3"
  },
  "language_info": {
   "codemirror_mode": {
    "name": "ipython",
    "version": 3
   },
   "file_extension": ".py",
   "mimetype": "text/x-python",
   "name": "python",
   "nbconvert_exporter": "python",
   "pygments_lexer": "ipython3",
   "version": "3.11.7"
  }
 },
 "nbformat": 4,
 "nbformat_minor": 5
}
