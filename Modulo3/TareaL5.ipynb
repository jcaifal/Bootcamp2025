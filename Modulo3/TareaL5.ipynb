{
 "cells": [
  {
   "cell_type": "markdown",
   "id": "2ab3d0cd",
   "metadata": {},
   "source": [
    "1. Carga y exploración de datos:\n",
    "\n",
    "\n",
    "○ Importa un dataset en formato CSV en un DataFrame.\n",
    "\n",
    "○ Inspecciona los datos con .head(), .info() y .describe().\n",
    "\n",
    "○ Identifica valores nulos y duplicados."
   ]
  },
  {
   "cell_type": "code",
   "execution_count": 18,
   "id": "d9ad2a77",
   "metadata": {},
   "outputs": [
    {
     "name": "stdout",
     "output_type": "stream",
     "text": [
      "   Rank  Peak All Time Peak ActualÂ gross AdjustedÂ gross (in 2022 dollars)  \\\n",
      "0     1     1             2  $780,000,000                      $780,000,000   \n",
      "1     2     1          7[2]  $579,800,000                      $579,800,000   \n",
      "2     3  1[4]          2[5]  $411,000,000                      $560,622,615   \n",
      "3     4  2[7]         10[7]  $397,300,000                      $454,751,555   \n",
      "4     5  2[4]           NaN  $345,675,146                      $402,844,849   \n",
      "\n",
      "         Artist                     Tour title      Year(s)  Shows  \\\n",
      "0  Taylor Swift              The Eras Tour â€   2023â€“2024     56   \n",
      "1      BeyoncÃ©         Renaissance World Tour         2023     56   \n",
      "2       Madonna  Sticky & Sweet Tour â€¡[4][a]  2008â€“2009     85   \n",
      "3          Pink    Beautiful Trauma World Tour  2018â€“2019    156   \n",
      "4  Taylor Swift        Reputation Stadium Tour         2018     53   \n",
      "\n",
      "  Average gross Ref.  \n",
      "0   $13,928,571  [1]  \n",
      "1   $10,353,571  [3]  \n",
      "2    $4,835,294  [6]  \n",
      "3    $2,546,795  [7]  \n",
      "4    $6,522,173  [8]  \n"
     ]
    }
   ],
   "source": [
    "import pandas as pd\n",
    "\n",
    "\n",
    "# archivo a utilizar\n",
    "archivo = 'my_file.csv'\n",
    "\n",
    "# cargamos el dataset\n",
    "df = pd.read_csv(archivo, encoding='cp1252')\n",
    "\n",
    "#exploracion inicial\n",
    "print(df.head())"
   ]
  },
  {
   "cell_type": "code",
   "execution_count": 19,
   "id": "e67b78a1",
   "metadata": {},
   "outputs": [
    {
     "name": "stdout",
     "output_type": "stream",
     "text": [
      "Rank                                  0\n",
      "Peak                                 11\n",
      "All Time Peak                        14\n",
      "ActualÂ gross                         0\n",
      "AdjustedÂ gross (in 2022 dollars)     0\n",
      "Artist                                0\n",
      "Tour title                            0\n",
      "Year(s)                               0\n",
      "Shows                                 0\n",
      "Average gross                         0\n",
      "Ref.                                  0\n",
      "dtype: int64\n"
     ]
    }
   ],
   "source": [
    "#verificamos valores nulos\n",
    "print(df.isnull().sum()) "
   ]
  },
  {
   "cell_type": "code",
   "execution_count": 20,
   "id": "de4d100d",
   "metadata": {},
   "outputs": [
    {
     "name": "stdout",
     "output_type": "stream",
     "text": [
      "0\n"
     ]
    }
   ],
   "source": [
    "#verificamos duplicados\n",
    "print(df.duplicated().sum())"
   ]
  },
  {
   "cell_type": "code",
   "execution_count": 21,
   "id": "12966d70",
   "metadata": {},
   "outputs": [
    {
     "name": "stdout",
     "output_type": "stream",
     "text": [
      "<class 'pandas.core.frame.DataFrame'>\n",
      "RangeIndex: 20 entries, 0 to 19\n",
      "Data columns (total 11 columns):\n",
      " #   Column                             Non-Null Count  Dtype \n",
      "---  ------                             --------------  ----- \n",
      " 0   Rank                               20 non-null     int64 \n",
      " 1   Peak                               9 non-null      object\n",
      " 2   All Time Peak                      6 non-null      object\n",
      " 3   ActualÂ gross                      20 non-null     object\n",
      " 4   AdjustedÂ gross (in 2022 dollars)  20 non-null     object\n",
      " 5   Artist                             20 non-null     object\n",
      " 6   Tour title                         20 non-null     object\n",
      " 7   Year(s)                            20 non-null     object\n",
      " 8   Shows                              20 non-null     int64 \n",
      " 9   Average gross                      20 non-null     object\n",
      " 10  Ref.                               20 non-null     object\n",
      "dtypes: int64(2), object(9)\n",
      "memory usage: 1.8+ KB\n"
     ]
    }
   ],
   "source": [
    "#revisamos el tipo de las columnas\n",
    "df.info()"
   ]
  },
  {
   "cell_type": "code",
   "execution_count": 23,
   "id": "3620f0f7",
   "metadata": {},
   "outputs": [
    {
     "name": "stdout",
     "output_type": "stream",
     "text": [
      "['Rank', 'Peak', 'All Time Peak', 'ActualÂ\\xa0gross', 'AdjustedÂ\\xa0gross (in 2022 dollars)', 'Artist', 'Tour title', 'Year(s)', 'Shows', 'Average gross', 'Ref.']\n"
     ]
    }
   ],
   "source": [
    "print(df.columns.tolist())"
   ]
  },
  {
   "cell_type": "code",
   "execution_count": 24,
   "id": "bf6ced9f",
   "metadata": {},
   "outputs": [
    {
     "name": "stdout",
     "output_type": "stream",
     "text": [
      "   Peak  Peak_Limpio\n",
      "0     1          1.0\n",
      "1     1          1.0\n",
      "2  1[4]         14.0\n",
      "3  2[7]         27.0\n",
      "4  2[4]         24.0\n"
     ]
    }
   ],
   "source": [
    "import re\n",
    "\n",
    "# Función para limpiar valores como '1[4]' → '14', '10[7]' → '107'\n",
    "def limpiar_valor(valor):\n",
    "    if isinstance(valor, str):\n",
    "        match = re.match(r'(\\d+)\\[(\\d+)\\]', valor)\n",
    "        if match:\n",
    "            return int(match.group(1) + match.group(2))\n",
    "        elif valor.isdigit():\n",
    "            return int(valor)\n",
    "    return None  # o valor original si prefieres\n",
    "\n",
    "# Aplicar sobre la columna correspondiente\n",
    "df['Peak_Limpio'] = df['Peak'].apply(limpiar_valor)\n",
    "\n",
    "print(df[['Peak', 'Peak_Limpio']].head())"
   ]
  },
  {
   "cell_type": "code",
   "execution_count": 25,
   "id": "39e1c3b6",
   "metadata": {},
   "outputs": [
    {
     "name": "stdout",
     "output_type": "stream",
     "text": [
      "  All Time Peak  Peak_all_time_Limpio\n",
      "0             2                   2.0\n",
      "1          7[2]                  72.0\n",
      "2          2[5]                  25.0\n",
      "3         10[7]                 107.0\n",
      "4           NaN                   NaN\n"
     ]
    }
   ],
   "source": [
    "# Aplicar sobre la columna correspondiente\n",
    "df['Peak_all_time_Limpio'] = df['All Time Peak'].apply(limpiar_valor)\n",
    "\n",
    "print(df[['All Time Peak', 'Peak_all_time_Limpio']].head())"
   ]
  },
  {
   "cell_type": "code",
   "execution_count": 26,
   "id": "625e7be7",
   "metadata": {},
   "outputs": [
    {
     "data": {
      "text/html": [
       "<div>\n",
       "<style scoped>\n",
       "    .dataframe tbody tr th:only-of-type {\n",
       "        vertical-align: middle;\n",
       "    }\n",
       "\n",
       "    .dataframe tbody tr th {\n",
       "        vertical-align: top;\n",
       "    }\n",
       "\n",
       "    .dataframe thead th {\n",
       "        text-align: right;\n",
       "    }\n",
       "</style>\n",
       "<table border=\"1\" class=\"dataframe\">\n",
       "  <thead>\n",
       "    <tr style=\"text-align: right;\">\n",
       "      <th></th>\n",
       "      <th>Rank</th>\n",
       "      <th>Peak</th>\n",
       "      <th>All Time Peak</th>\n",
       "      <th>ActualÂ gross</th>\n",
       "      <th>AdjustedÂ gross (in 2022 dollars)</th>\n",
       "      <th>Artist</th>\n",
       "      <th>Tour title</th>\n",
       "      <th>Year(s)</th>\n",
       "      <th>Shows</th>\n",
       "      <th>Average gross</th>\n",
       "      <th>Ref.</th>\n",
       "      <th>Peak_Limpio</th>\n",
       "      <th>Peak_all_time_Limpio</th>\n",
       "    </tr>\n",
       "  </thead>\n",
       "  <tbody>\n",
       "    <tr>\n",
       "      <th>0</th>\n",
       "      <td>1</td>\n",
       "      <td>1</td>\n",
       "      <td>2</td>\n",
       "      <td>$780,000,000</td>\n",
       "      <td>$780,000,000</td>\n",
       "      <td>Taylor Swift</td>\n",
       "      <td>The Eras Tour â€</td>\n",
       "      <td>2023â€“2024</td>\n",
       "      <td>56</td>\n",
       "      <td>$13,928,571</td>\n",
       "      <td>[1]</td>\n",
       "      <td>1.0</td>\n",
       "      <td>2.0</td>\n",
       "    </tr>\n",
       "    <tr>\n",
       "      <th>1</th>\n",
       "      <td>2</td>\n",
       "      <td>1</td>\n",
       "      <td>7[2]</td>\n",
       "      <td>$579,800,000</td>\n",
       "      <td>$579,800,000</td>\n",
       "      <td>BeyoncÃ©</td>\n",
       "      <td>Renaissance World Tour</td>\n",
       "      <td>2023</td>\n",
       "      <td>56</td>\n",
       "      <td>$10,353,571</td>\n",
       "      <td>[3]</td>\n",
       "      <td>1.0</td>\n",
       "      <td>72.0</td>\n",
       "    </tr>\n",
       "    <tr>\n",
       "      <th>2</th>\n",
       "      <td>3</td>\n",
       "      <td>1[4]</td>\n",
       "      <td>2[5]</td>\n",
       "      <td>$411,000,000</td>\n",
       "      <td>$560,622,615</td>\n",
       "      <td>Madonna</td>\n",
       "      <td>Sticky &amp; Sweet Tour â€¡[4][a]</td>\n",
       "      <td>2008â€“2009</td>\n",
       "      <td>85</td>\n",
       "      <td>$4,835,294</td>\n",
       "      <td>[6]</td>\n",
       "      <td>14.0</td>\n",
       "      <td>25.0</td>\n",
       "    </tr>\n",
       "    <tr>\n",
       "      <th>3</th>\n",
       "      <td>4</td>\n",
       "      <td>2[7]</td>\n",
       "      <td>10[7]</td>\n",
       "      <td>$397,300,000</td>\n",
       "      <td>$454,751,555</td>\n",
       "      <td>Pink</td>\n",
       "      <td>Beautiful Trauma World Tour</td>\n",
       "      <td>2018â€“2019</td>\n",
       "      <td>156</td>\n",
       "      <td>$2,546,795</td>\n",
       "      <td>[7]</td>\n",
       "      <td>27.0</td>\n",
       "      <td>107.0</td>\n",
       "    </tr>\n",
       "    <tr>\n",
       "      <th>4</th>\n",
       "      <td>5</td>\n",
       "      <td>2[4]</td>\n",
       "      <td>NaN</td>\n",
       "      <td>$345,675,146</td>\n",
       "      <td>$402,844,849</td>\n",
       "      <td>Taylor Swift</td>\n",
       "      <td>Reputation Stadium Tour</td>\n",
       "      <td>2018</td>\n",
       "      <td>53</td>\n",
       "      <td>$6,522,173</td>\n",
       "      <td>[8]</td>\n",
       "      <td>24.0</td>\n",
       "      <td>NaN</td>\n",
       "    </tr>\n",
       "  </tbody>\n",
       "</table>\n",
       "</div>"
      ],
      "text/plain": [
       "   Rank  Peak All Time Peak ActualÂ gross AdjustedÂ gross (in 2022 dollars)  \\\n",
       "0     1     1             2  $780,000,000                      $780,000,000   \n",
       "1     2     1          7[2]  $579,800,000                      $579,800,000   \n",
       "2     3  1[4]          2[5]  $411,000,000                      $560,622,615   \n",
       "3     4  2[7]         10[7]  $397,300,000                      $454,751,555   \n",
       "4     5  2[4]           NaN  $345,675,146                      $402,844,849   \n",
       "\n",
       "         Artist                     Tour title      Year(s)  Shows  \\\n",
       "0  Taylor Swift              The Eras Tour â€   2023â€“2024     56   \n",
       "1      BeyoncÃ©         Renaissance World Tour         2023     56   \n",
       "2       Madonna  Sticky & Sweet Tour â€¡[4][a]  2008â€“2009     85   \n",
       "3          Pink    Beautiful Trauma World Tour  2018â€“2019    156   \n",
       "4  Taylor Swift        Reputation Stadium Tour         2018     53   \n",
       "\n",
       "  Average gross Ref.  Peak_Limpio  Peak_all_time_Limpio  \n",
       "0   $13,928,571  [1]          1.0                   2.0  \n",
       "1   $10,353,571  [3]          1.0                  72.0  \n",
       "2    $4,835,294  [6]         14.0                  25.0  \n",
       "3    $2,546,795  [7]         27.0                 107.0  \n",
       "4    $6,522,173  [8]         24.0                   NaN  "
      ]
     },
     "execution_count": 26,
     "metadata": {},
     "output_type": "execute_result"
    }
   ],
   "source": [
    "df.head()"
   ]
  },
  {
   "cell_type": "code",
   "execution_count": 28,
   "id": "8c17b381",
   "metadata": {},
   "outputs": [],
   "source": [
    "#eliminamos las columnas Peak y All Time Peak\n",
    "\n",
    "df.drop(['Peak','All Time Peak'], axis=1, inplace=True)"
   ]
  },
  {
   "cell_type": "code",
   "execution_count": 29,
   "id": "54894bf4",
   "metadata": {},
   "outputs": [
    {
     "data": {
      "text/html": [
       "<div>\n",
       "<style scoped>\n",
       "    .dataframe tbody tr th:only-of-type {\n",
       "        vertical-align: middle;\n",
       "    }\n",
       "\n",
       "    .dataframe tbody tr th {\n",
       "        vertical-align: top;\n",
       "    }\n",
       "\n",
       "    .dataframe thead th {\n",
       "        text-align: right;\n",
       "    }\n",
       "</style>\n",
       "<table border=\"1\" class=\"dataframe\">\n",
       "  <thead>\n",
       "    <tr style=\"text-align: right;\">\n",
       "      <th></th>\n",
       "      <th>Rank</th>\n",
       "      <th>ActualÂ gross</th>\n",
       "      <th>AdjustedÂ gross (in 2022 dollars)</th>\n",
       "      <th>Artist</th>\n",
       "      <th>Tour title</th>\n",
       "      <th>Year(s)</th>\n",
       "      <th>Shows</th>\n",
       "      <th>Average gross</th>\n",
       "      <th>Ref.</th>\n",
       "      <th>Peak_Limpio</th>\n",
       "      <th>Peak_all_time_Limpio</th>\n",
       "    </tr>\n",
       "  </thead>\n",
       "  <tbody>\n",
       "    <tr>\n",
       "      <th>0</th>\n",
       "      <td>1</td>\n",
       "      <td>$780,000,000</td>\n",
       "      <td>$780,000,000</td>\n",
       "      <td>Taylor Swift</td>\n",
       "      <td>The Eras Tour â€</td>\n",
       "      <td>2023â€“2024</td>\n",
       "      <td>56</td>\n",
       "      <td>$13,928,571</td>\n",
       "      <td>[1]</td>\n",
       "      <td>1.0</td>\n",
       "      <td>2.0</td>\n",
       "    </tr>\n",
       "    <tr>\n",
       "      <th>1</th>\n",
       "      <td>2</td>\n",
       "      <td>$579,800,000</td>\n",
       "      <td>$579,800,000</td>\n",
       "      <td>BeyoncÃ©</td>\n",
       "      <td>Renaissance World Tour</td>\n",
       "      <td>2023</td>\n",
       "      <td>56</td>\n",
       "      <td>$10,353,571</td>\n",
       "      <td>[3]</td>\n",
       "      <td>1.0</td>\n",
       "      <td>72.0</td>\n",
       "    </tr>\n",
       "    <tr>\n",
       "      <th>2</th>\n",
       "      <td>3</td>\n",
       "      <td>$411,000,000</td>\n",
       "      <td>$560,622,615</td>\n",
       "      <td>Madonna</td>\n",
       "      <td>Sticky &amp; Sweet Tour â€¡[4][a]</td>\n",
       "      <td>2008â€“2009</td>\n",
       "      <td>85</td>\n",
       "      <td>$4,835,294</td>\n",
       "      <td>[6]</td>\n",
       "      <td>14.0</td>\n",
       "      <td>25.0</td>\n",
       "    </tr>\n",
       "    <tr>\n",
       "      <th>3</th>\n",
       "      <td>4</td>\n",
       "      <td>$397,300,000</td>\n",
       "      <td>$454,751,555</td>\n",
       "      <td>Pink</td>\n",
       "      <td>Beautiful Trauma World Tour</td>\n",
       "      <td>2018â€“2019</td>\n",
       "      <td>156</td>\n",
       "      <td>$2,546,795</td>\n",
       "      <td>[7]</td>\n",
       "      <td>27.0</td>\n",
       "      <td>107.0</td>\n",
       "    </tr>\n",
       "    <tr>\n",
       "      <th>4</th>\n",
       "      <td>5</td>\n",
       "      <td>$345,675,146</td>\n",
       "      <td>$402,844,849</td>\n",
       "      <td>Taylor Swift</td>\n",
       "      <td>Reputation Stadium Tour</td>\n",
       "      <td>2018</td>\n",
       "      <td>53</td>\n",
       "      <td>$6,522,173</td>\n",
       "      <td>[8]</td>\n",
       "      <td>24.0</td>\n",
       "      <td>NaN</td>\n",
       "    </tr>\n",
       "  </tbody>\n",
       "</table>\n",
       "</div>"
      ],
      "text/plain": [
       "   Rank ActualÂ gross AdjustedÂ gross (in 2022 dollars)        Artist  \\\n",
       "0     1  $780,000,000                      $780,000,000  Taylor Swift   \n",
       "1     2  $579,800,000                      $579,800,000      BeyoncÃ©   \n",
       "2     3  $411,000,000                      $560,622,615       Madonna   \n",
       "3     4  $397,300,000                      $454,751,555          Pink   \n",
       "4     5  $345,675,146                      $402,844,849  Taylor Swift   \n",
       "\n",
       "                      Tour title      Year(s)  Shows Average gross Ref.  \\\n",
       "0              The Eras Tour â€   2023â€“2024     56   $13,928,571  [1]   \n",
       "1         Renaissance World Tour         2023     56   $10,353,571  [3]   \n",
       "2  Sticky & Sweet Tour â€¡[4][a]  2008â€“2009     85    $4,835,294  [6]   \n",
       "3    Beautiful Trauma World Tour  2018â€“2019    156    $2,546,795  [7]   \n",
       "4        Reputation Stadium Tour         2018     53    $6,522,173  [8]   \n",
       "\n",
       "   Peak_Limpio  Peak_all_time_Limpio  \n",
       "0          1.0                   2.0  \n",
       "1          1.0                  72.0  \n",
       "2         14.0                  25.0  \n",
       "3         27.0                 107.0  \n",
       "4         24.0                   NaN  "
      ]
     },
     "execution_count": 29,
     "metadata": {},
     "output_type": "execute_result"
    }
   ],
   "source": [
    "#mostramos las columnas nuevamente\n",
    "df.head()"
   ]
  },
  {
   "cell_type": "code",
   "execution_count": 30,
   "id": "e8c01579",
   "metadata": {},
   "outputs": [],
   "source": [
    "#exportamos a csv\n",
    "df.to_csv(\"datos_limpios.csv\", index=False)\n",
    "\n",
    "#exportamos a excel\n",
    "df.to_excel(\"datos_limpios.xlsx\", index=False)"
   ]
  }
 ],
 "metadata": {
  "kernelspec": {
   "display_name": "base",
   "language": "python",
   "name": "python3"
  },
  "language_info": {
   "codemirror_mode": {
    "name": "ipython",
    "version": 3
   },
   "file_extension": ".py",
   "mimetype": "text/x-python",
   "name": "python",
   "nbconvert_exporter": "python",
   "pygments_lexer": "ipython3",
   "version": "3.11.7"
  }
 },
 "nbformat": 4,
 "nbformat_minor": 5
}
