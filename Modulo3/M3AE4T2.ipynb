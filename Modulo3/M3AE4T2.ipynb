{
 "cells": [
  {
   "cell_type": "code",
   "execution_count": 2,
   "id": "352494cd",
   "metadata": {},
   "outputs": [
    {
     "name": "stdout",
     "output_type": "stream",
     "text": [
      "Clientes:\n",
      "      ID                   Nombre completo Fecha de nacimiento  \\\n",
      "0  C0001            Leandra Anna Malo Alba          1984-12-08   \n",
      "1  C0002           Severo Granados Iglesia          1986-08-12   \n",
      "2  C0003                 Lucho Andreu Amat          1990-04-16   \n",
      "3  C0004  Matías Mauricio Castillo Barrera          1996-12-02   \n",
      "4  C0005        Mauricio Guijarro Castelló          1984-05-14   \n",
      "\n",
      "              Dirección Localidad y Código postal        Teléfono  \\\n",
      "0  7943 S. Fifth Street     Bergenfield, NJ 07621  (598) 451-5865   \n",
      "1        77 Lyme Street       Hermitage, TN 37076  (869) 771-1487   \n",
      "2    9448 Fairfield St.        Aberdeen, SD 57401  (246) 245-7306   \n",
      "3      8143 College St.      Trussville, AL 35173  (707) 933-2513   \n",
      "4     9893 W. Vale Ave.        Billings, MT 59101  (612) 325-0216   \n",
      "\n",
      "      Correo electrónico       Fecha de alta Grupo de clientes  \n",
      "0         uraeus@mac.com 2012-01-19 14:32:31                 A  \n",
      "1           bhima@me.com 2005-03-22 15:42:12                 E  \n",
      "2  psichel@sbcglobal.net 2007-09-15 03:01:11                 E  \n",
      "3    tbeck@optonline.net 2011-12-07 15:22:50                 E  \n",
      "4         eegsa@yahoo.ca 2008-06-28 06:58:06                 D  \n",
      "\n",
      "Ventas:\n",
      "  ID Cliente                    Zona              País   Tipo de producto  \\\n",
      "0      C2421                  Europa    United Kingdom             Snacks   \n",
      "1      C1908                  Europa             Malta           Cárnicos   \n",
      "2      C7652     Australia y Oceanía  Marshall Islands           Cereales   \n",
      "3      C2326                  África              Iran             Frutas   \n",
      "4      C5305  Centroamérica y Caribe         Guatemala  Alimento infantil   \n",
      "\n",
      "  Canal de venta Prioridad Fecha pedido  ID Pedido Fecha envío  Unidades  \\\n",
      "0        Offline   Crítica   2020-10-12  242113196  2020-11-30      5530   \n",
      "1         Online      Alta   2020-01-26  190800607  2020-01-28       994   \n",
      "2         Online   Crítica   2020-11-09  765228068  2020-11-21      6845   \n",
      "3        Offline      Baja   2021-08-21  232631909  2021-10-02      9806   \n",
      "4        Offline     Media   2022-09-30  530560958  2022-11-12      3633   \n",
      "\n",
      "   Precio Unitario  Coste unitario  Importe venta total  Importe Coste total  \n",
      "0           152.58           97.44            843767.40            538843.20  \n",
      "1           421.89          364.69            419358.66            362501.86  \n",
      "2           205.70          117.11           1408016.50            801617.95  \n",
      "3             9.33            6.92             91489.98             67857.52  \n",
      "4           255.28          159.42            927432.24            579172.86  \n"
     ]
    }
   ],
   "source": [
    "import pandas as pd\n",
    "\n",
    "# URLs de los archivos Excel\n",
    "url_clientes = \"https://buscarv.com/wp-content/uploads/2022/09/Lista-de-clientes-con-nombre-y-direccion.xlsx\"\n",
    "url_ventas = \"https://buscarv.com/wp-content/uploads/2022/11/1000-Registros-de-ventas.xlsx\"\n",
    "\n",
    "# Leer los archivos Excel directamente desde la web\n",
    "df_clientes = pd.read_excel(url_clientes, engine='openpyxl')\n",
    "df_ventas = pd.read_excel(url_ventas, engine='openpyxl')\n",
    "\n",
    "# Mostrar las primeras filas de cada uno\n",
    "print(\"Clientes:\")\n",
    "print(df_clientes.head())\n",
    "\n",
    "print(\"\\nVentas:\")\n",
    "print(df_ventas.head())\n",
    "\n"
   ]
  },
  {
   "cell_type": "code",
   "execution_count": null,
   "id": "df009208",
   "metadata": {},
   "outputs": [],
   "source": [
    "# Unificar por columna común (por ejemplo, 'ID' si existe)\n",
    "df_merged = pd.merge(df_clientes, df_ventas, on='ID', how='inner')  # Ajusta 'ID' según tus columnas\n",
    "# Exportar a Excel con hojas separadas\n",
    "with pd.ExcelWriter('resumen.xlsx', engine='openpyxl') as writer:\n",
    "    df_clientes.to_excel(writer, sheet_name='Clientes', index=False)\n",
    "    df_ventas.to_excel(writer, sheet_name='Ventas', index=False)\n",
    "    df_merged.to_excel(writer, sheet_name='Resumen', index=False)\n"
   ]
  }
 ],
 "metadata": {
  "kernelspec": {
   "display_name": "base",
   "language": "python",
   "name": "python3"
  },
  "language_info": {
   "codemirror_mode": {
    "name": "ipython",
    "version": 3
   },
   "file_extension": ".py",
   "mimetype": "text/x-python",
   "name": "python",
   "nbconvert_exporter": "python",
   "pygments_lexer": "ipython3",
   "version": "3.11.7"
  }
 },
 "nbformat": 4,
 "nbformat_minor": 5
}
